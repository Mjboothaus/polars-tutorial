{
 "cells": [
  {
   "cell_type": "markdown",
   "metadata": {},
   "source": [
    "## Polars - official tutorial\n",
    "\n",
    "https://pola-rs.github.io/polars-book/user-guide/quickstart/intro.html"
   ]
  },
  {
   "cell_type": "code",
   "execution_count": 3,
   "metadata": {},
   "outputs": [],
   "source": [
    "import polars as pl"
   ]
  },
  {
   "cell_type": "code",
   "execution_count": 4,
   "metadata": {},
   "outputs": [],
   "source": [
    "df = pl.read_csv(\"https://j.mp/iriscsv\")"
   ]
  },
  {
   "cell_type": "code",
   "execution_count": 13,
   "metadata": {},
   "outputs": [
    {
     "data": {
      "text/html": [
       "<div><style>\n",
       ".dataframe > thead > tr > th,\n",
       ".dataframe > tbody > tr > td {\n",
       "  text-align: right;\n",
       "}\n",
       "</style>\n",
       "<small>shape: (150, 5)</small><table border=\"1\" class=\"dataframe\"><thead><tr><th>sepal_length</th><th>sepal_width</th><th>petal_length</th><th>petal_width</th><th>species</th></tr><tr><td>f64</td><td>f64</td><td>f64</td><td>f64</td><td>str</td></tr></thead><tbody><tr><td>5.1</td><td>3.5</td><td>1.4</td><td>0.2</td><td>&quot;setosa&quot;</td></tr><tr><td>4.9</td><td>3.0</td><td>1.4</td><td>0.2</td><td>&quot;setosa&quot;</td></tr><tr><td>4.7</td><td>3.2</td><td>1.3</td><td>0.2</td><td>&quot;setosa&quot;</td></tr><tr><td>4.6</td><td>3.1</td><td>1.5</td><td>0.2</td><td>&quot;setosa&quot;</td></tr><tr><td>5.0</td><td>3.6</td><td>1.4</td><td>0.2</td><td>&quot;setosa&quot;</td></tr><tr><td>5.4</td><td>3.9</td><td>1.7</td><td>0.4</td><td>&quot;setosa&quot;</td></tr><tr><td>4.6</td><td>3.4</td><td>1.4</td><td>0.3</td><td>&quot;setosa&quot;</td></tr><tr><td>5.0</td><td>3.4</td><td>1.5</td><td>0.2</td><td>&quot;setosa&quot;</td></tr><tr><td>4.4</td><td>2.9</td><td>1.4</td><td>0.2</td><td>&quot;setosa&quot;</td></tr><tr><td>4.9</td><td>3.1</td><td>1.5</td><td>0.1</td><td>&quot;setosa&quot;</td></tr><tr><td>5.4</td><td>3.7</td><td>1.5</td><td>0.2</td><td>&quot;setosa&quot;</td></tr><tr><td>4.8</td><td>3.4</td><td>1.6</td><td>0.2</td><td>&quot;setosa&quot;</td></tr><tr><td>&hellip;</td><td>&hellip;</td><td>&hellip;</td><td>&hellip;</td><td>&hellip;</td></tr><tr><td>6.0</td><td>3.0</td><td>4.8</td><td>1.8</td><td>&quot;virginica&quot;</td></tr><tr><td>6.9</td><td>3.1</td><td>5.4</td><td>2.1</td><td>&quot;virginica&quot;</td></tr><tr><td>6.7</td><td>3.1</td><td>5.6</td><td>2.4</td><td>&quot;virginica&quot;</td></tr><tr><td>6.9</td><td>3.1</td><td>5.1</td><td>2.3</td><td>&quot;virginica&quot;</td></tr><tr><td>5.8</td><td>2.7</td><td>5.1</td><td>1.9</td><td>&quot;virginica&quot;</td></tr><tr><td>6.8</td><td>3.2</td><td>5.9</td><td>2.3</td><td>&quot;virginica&quot;</td></tr><tr><td>6.7</td><td>3.3</td><td>5.7</td><td>2.5</td><td>&quot;virginica&quot;</td></tr><tr><td>6.7</td><td>3.0</td><td>5.2</td><td>2.3</td><td>&quot;virginica&quot;</td></tr><tr><td>6.3</td><td>2.5</td><td>5.0</td><td>1.9</td><td>&quot;virginica&quot;</td></tr><tr><td>6.5</td><td>3.0</td><td>5.2</td><td>2.0</td><td>&quot;virginica&quot;</td></tr><tr><td>6.2</td><td>3.4</td><td>5.4</td><td>2.3</td><td>&quot;virginica&quot;</td></tr><tr><td>5.9</td><td>3.0</td><td>5.1</td><td>1.8</td><td>&quot;virginica&quot;</td></tr></tbody></table></div>"
      ],
      "text/plain": [
       "shape: (150, 5)\n",
       "┌──────────────┬─────────────┬──────────────┬─────────────┬───────────┐\n",
       "│ sepal_length ┆ sepal_width ┆ petal_length ┆ petal_width ┆ species   │\n",
       "│ ---          ┆ ---         ┆ ---          ┆ ---         ┆ ---       │\n",
       "│ f64          ┆ f64         ┆ f64          ┆ f64         ┆ str       │\n",
       "╞══════════════╪═════════════╪══════════════╪═════════════╪═══════════╡\n",
       "│ 5.1          ┆ 3.5         ┆ 1.4          ┆ 0.2         ┆ setosa    │\n",
       "│ 4.9          ┆ 3.0         ┆ 1.4          ┆ 0.2         ┆ setosa    │\n",
       "│ 4.7          ┆ 3.2         ┆ 1.3          ┆ 0.2         ┆ setosa    │\n",
       "│ 4.6          ┆ 3.1         ┆ 1.5          ┆ 0.2         ┆ setosa    │\n",
       "│ …            ┆ …           ┆ …            ┆ …           ┆ …         │\n",
       "│ 6.3          ┆ 2.5         ┆ 5.0          ┆ 1.9         ┆ virginica │\n",
       "│ 6.5          ┆ 3.0         ┆ 5.2          ┆ 2.0         ┆ virginica │\n",
       "│ 6.2          ┆ 3.4         ┆ 5.4          ┆ 2.3         ┆ virginica │\n",
       "│ 5.9          ┆ 3.0         ┆ 5.1          ┆ 1.8         ┆ virginica │\n",
       "└──────────────┴─────────────┴──────────────┴─────────────┴───────────┘"
      ]
     },
     "execution_count": 13,
     "metadata": {},
     "output_type": "execute_result"
    }
   ],
   "source": [
    "df "
   ]
  },
  {
   "cell_type": "code",
   "execution_count": 6,
   "metadata": {},
   "outputs": [
    {
     "name": "stdout",
     "output_type": "stream",
     "text": [
      "shape: (3, 5)\n",
      "┌────────────┬──────────────┬─────────────┬──────────────┬─────────────┐\n",
      "│ species    ┆ sepal_length ┆ sepal_width ┆ petal_length ┆ petal_width │\n",
      "│ ---        ┆ ---          ┆ ---         ┆ ---          ┆ ---         │\n",
      "│ str        ┆ f64          ┆ f64         ┆ f64          ┆ f64         │\n",
      "╞════════════╪══════════════╪═════════════╪══════════════╪═════════════╡\n",
      "│ setosa     ┆ 116.9        ┆ 81.7        ┆ 33.2         ┆ 6.1         │\n",
      "│ versicolor ┆ 281.9        ┆ 131.8       ┆ 202.9        ┆ 63.3        │\n",
      "│ virginica  ┆ 324.5        ┆ 146.2       ┆ 273.1        ┆ 99.6        │\n",
      "└────────────┴──────────────┴─────────────┴──────────────┴─────────────┘\n"
     ]
    }
   ],
   "source": [
    "print(df.filter(pl.col(\"sepal_length\") > 5)\n",
    "      .groupby(\"species\", maintain_order=True)\n",
    "      .agg(pl.all().sum())\n",
    ")"
   ]
  },
  {
   "cell_type": "code",
   "execution_count": 7,
   "metadata": {},
   "outputs": [
    {
     "name": "stdout",
     "output_type": "stream",
     "text": [
      "shape: (118, 5)\n",
      "┌──────────────┬─────────────┬──────────────┬─────────────┬───────────┐\n",
      "│ sepal_length ┆ sepal_width ┆ petal_length ┆ petal_width ┆ species   │\n",
      "│ ---          ┆ ---         ┆ ---          ┆ ---         ┆ ---       │\n",
      "│ f64          ┆ f64         ┆ f64          ┆ f64         ┆ str       │\n",
      "╞══════════════╪═════════════╪══════════════╪═════════════╪═══════════╡\n",
      "│ 5.1          ┆ 3.5         ┆ 1.4          ┆ 0.2         ┆ setosa    │\n",
      "│ 5.4          ┆ 3.9         ┆ 1.7          ┆ 0.4         ┆ setosa    │\n",
      "│ 5.4          ┆ 3.7         ┆ 1.5          ┆ 0.2         ┆ setosa    │\n",
      "│ 5.8          ┆ 4.0         ┆ 1.2          ┆ 0.2         ┆ setosa    │\n",
      "│ …            ┆ …           ┆ …            ┆ …           ┆ …         │\n",
      "│ 6.3          ┆ 2.5         ┆ 5.0          ┆ 1.9         ┆ virginica │\n",
      "│ 6.5          ┆ 3.0         ┆ 5.2          ┆ 2.0         ┆ virginica │\n",
      "│ 6.2          ┆ 3.4         ┆ 5.4          ┆ 2.3         ┆ virginica │\n",
      "│ 5.9          ┆ 3.0         ┆ 5.1          ┆ 1.8         ┆ virginica │\n",
      "└──────────────┴─────────────┴──────────────┴─────────────┴───────────┘\n"
     ]
    }
   ],
   "source": [
    "print(df.filter(pl.col(\"sepal_length\") > 5))"
   ]
  },
  {
   "cell_type": "code",
   "execution_count": 11,
   "metadata": {},
   "outputs": [
    {
     "name": "stdout",
     "output_type": "stream",
     "text": [
      "shape: (3, 2)\n",
      "┌────────────┬─────────────┐\n",
      "│ species    ┆ sepal_width │\n",
      "│ ---        ┆ ---         │\n",
      "│ str        ┆ f64         │\n",
      "╞════════════╪═════════════╡\n",
      "│ setosa     ┆ 81.7        │\n",
      "│ versicolor ┆ 131.8       │\n",
      "│ virginica  ┆ 146.2       │\n",
      "└────────────┴─────────────┘\n"
     ]
    }
   ],
   "source": [
    "print(df.filter(pl.col(\"sepal_length\") > 5)\n",
    "      .groupby(\"species\", maintain_order=True)\n",
    "          .agg(pl.col(\"sepal_width\").sum()))"
   ]
  },
  {
   "cell_type": "code",
   "execution_count": 12,
   "metadata": {},
   "outputs": [
    {
     "name": "stdout",
     "output_type": "stream",
     "text": [
      "shape: (3, 5)\n",
      "┌────────────┬──────────────┬─────────────┬──────────────┬─────────────┐\n",
      "│ species    ┆ sepal_length ┆ sepal_width ┆ petal_length ┆ petal_width │\n",
      "│ ---        ┆ ---          ┆ ---         ┆ ---          ┆ ---         │\n",
      "│ str        ┆ f64          ┆ f64         ┆ f64          ┆ f64         │\n",
      "╞════════════╪══════════════╪═════════════╪══════════════╪═════════════╡\n",
      "│ setosa     ┆ 116.9        ┆ 81.7        ┆ 33.2         ┆ 6.1         │\n",
      "│ versicolor ┆ 281.9        ┆ 131.8       ┆ 202.9        ┆ 63.3        │\n",
      "│ virginica  ┆ 324.5        ┆ 146.2       ┆ 273.1        ┆ 99.6        │\n",
      "└────────────┴──────────────┴─────────────┴──────────────┴─────────────┘\n"
     ]
    }
   ],
   "source": [
    "print(\n",
    "    pl.read_csv(\"https://j.mp/iriscsv\")\n",
    "    .lazy()\n",
    "    .filter(pl.col(\"sepal_length\") > 5)\n",
    "    .groupby(\"species\", maintain_order=True)\n",
    "    .agg(pl.all().sum())\n",
    "    .collect()\n",
    ")"
   ]
  },
  {
   "cell_type": "code",
   "execution_count": null,
   "metadata": {},
   "outputs": [],
   "source": []
  }
 ],
 "metadata": {
  "kernelspec": {
   "display_name": "Python 3",
   "language": "python",
   "name": "python3"
  },
  "language_info": {
   "codemirror_mode": {
    "name": "ipython",
    "version": 3
   },
   "file_extension": ".py",
   "mimetype": "text/x-python",
   "name": "python",
   "nbconvert_exporter": "python",
   "pygments_lexer": "ipython3",
   "version": "3.10.4"
  },
  "orig_nbformat": 4,
  "vscode": {
   "interpreter": {
    "hash": "3ad933181bd8a04b432d3370b9dc3b0662ad032c4dfaa4e4f1596c548f763858"
   }
  }
 },
 "nbformat": 4,
 "nbformat_minor": 2
}
